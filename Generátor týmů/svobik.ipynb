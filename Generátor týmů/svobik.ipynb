{
 "cells": [
  {
   "cell_type": "code",
   "execution_count": 2,
   "metadata": {},
   "outputs": [],
   "source": [
    "A = [[\"Svobodak\", \"Pokac\"],[\"Beda Smetana\", \"Tvoje mama\"],[\"SS\"],[\"Vietnamec\",\"Marys\",\"DejvikKudrnac\"]]"
   ]
  },
  {
   "cell_type": "code",
   "execution_count": 19,
   "metadata": {},
   "outputs": [
    {
     "name": "stdout",
     "output_type": "stream",
     "text": [
      "[['Beda Smetana', 'Tvoje mama'], ['SS'], ['Vietnamec', 'Marys', 'DejvikKudrnac']]\n"
     ]
    }
   ],
   "source": [
    "max_hvezda = 4.5\n",
    "min_hvezda = 3.5\n",
    "\n",
    "def change_star_to_index(star):\n",
    "    if star == 4.5:\n",
    "        star= 4\n",
    "    elif star == 4:\n",
    "        star = 3\n",
    "    elif star == 3.5:\n",
    "        star = 2\n",
    "    else:\n",
    "        star = star\n",
    "    return star\n",
    "max_hvezda = change_star_to_index(max_hvezda)\n",
    "min_hvezda = change_star_to_index(min_hvezda)\n",
    "print(A[5-max_hvezda:5-min_hvezda+1])"
   ]
  }
 ],
 "metadata": {
  "kernelspec": {
   "display_name": "Python 3",
   "language": "python",
   "name": "python3"
  },
  "language_info": {
   "codemirror_mode": {
    "name": "ipython",
    "version": 3
   },
   "file_extension": ".py",
   "mimetype": "text/x-python",
   "name": "python",
   "nbconvert_exporter": "python",
   "pygments_lexer": "ipython3",
   "version": "3.10.6"
  },
  "orig_nbformat": 4
 },
 "nbformat": 4,
 "nbformat_minor": 2
}
